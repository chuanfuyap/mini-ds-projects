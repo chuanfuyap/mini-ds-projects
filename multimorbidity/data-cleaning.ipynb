{
 "cells": [
  {
   "cell_type": "markdown",
   "id": "8a77f88d",
   "metadata": {},
   "source": [
    "# Data cleaning for multimorbidity (re)analysis\n",
    "\n",
    "## Data sources\n",
    "- Multimorbidity data itself was provided by [Dr Johnny Batty](https://paceseducation.co.uk/dr-jonathan-batty) as part of the Data Study Group Mar23. (therefore it is not uploaded to github)\n",
    "    - these were data as reported/analysed in this [publication](https://www.thelancet.com/journals/lancet/article/PIIS0140-6736(12)60240-2/fulltext)\n",
    "- Population data for England, estimates taken from [Office of National Statistics](https://www.ons.gov.uk/peoplepopulationandcommunity/populationandmigration/populationestimates/datasets/wardlevelmidyearpopulationestimatesexperimental)\n",
    "- Deprivation indeces for England taken from [Gov.uk](https://www.gov.uk/government/collections/english-indices-of-deprivation), only tabulated for 2010, 2015 and 2019. \n",
    "- LSOA matching to Ward code taken from geoportal statistics for [2010](https://geoportal.statistics.gov.uk/datasets/bc28fce1d96c4b8a8e668a70cd2c503e_0/explore) and [2011](https://geoportal.statistics.gov.uk/datasets/ons::lower-layer-super-output-area-2001-to-ward-2011-lookup-in-england-and-wales-1/explore), this is needed for deprivation index data, and only up to 2011."
   ]
  },
  {
   "cell_type": "code",
   "execution_count": 1,
   "id": "95d6558b",
   "metadata": {},
   "outputs": [],
   "source": [
    "import pandas as pd"
   ]
  },
  {
   "cell_type": "code",
   "execution_count": null,
   "id": "5d976d51",
   "metadata": {},
   "outputs": [],
   "source": []
  }
 ],
 "metadata": {
  "kernelspec": {
   "display_name": "Python 3 (ipykernel)",
   "language": "python",
   "name": "python3"
  },
  "language_info": {
   "codemirror_mode": {
    "name": "ipython",
    "version": 3
   },
   "file_extension": ".py",
   "mimetype": "text/x-python",
   "name": "python",
   "nbconvert_exporter": "python",
   "pygments_lexer": "ipython3",
   "version": "3.8.13"
  }
 },
 "nbformat": 4,
 "nbformat_minor": 5
}
