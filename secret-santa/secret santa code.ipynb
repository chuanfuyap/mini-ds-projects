{
 "cells": [
  {
   "cell_type": "code",
   "execution_count": 1,
   "metadata": {},
   "outputs": [],
   "source": [
    "import pandas as pd"
   ]
  },
  {
   "cell_type": "markdown",
   "metadata": {},
   "source": [
    "## input file"
   ]
  },
  {
   "cell_type": "code",
   "execution_count": 35,
   "metadata": {},
   "outputs": [],
   "source": [
    "names = pd.read_csv(\"secret_santa_participants.csv\", index_col=0) ## in this case I had the data ordered with first column"
   ]
  },
  {
   "cell_type": "code",
   "execution_count": 36,
   "metadata": {
    "scrolled": true
   },
   "outputs": [
    {
     "name": "stdout",
     "output_type": "stream",
     "text": [
      "|              | E-mail                       |\n",
      "|:-------------|:-----------------------------|\n",
      "| Bobbi Torain | bobbi.torain@secretsanta.com |\n",
      "| Eric Germain | eric.germain@secretsanta.com |\n",
      "| Helen Green  | helen.green@secretsanta.com  |\n"
     ]
    }
   ],
   "source": [
    "print(names.head(3).to_markdown())"
   ]
  },
  {
   "cell_type": "markdown",
   "metadata": {},
   "source": [
    "## assigning santa/santee"
   ]
  },
  {
   "cell_type": "code",
   "execution_count": 37,
   "metadata": {},
   "outputs": [],
   "source": [
    "import numpy as np\n",
    "df=pd.DataFrame(np.arange(names.shape[0]))\n",
    "df[1] = df[0]"
   ]
  },
  {
   "cell_type": "code",
   "execution_count": 38,
   "metadata": {},
   "outputs": [
    {
     "name": "stdout",
     "output_type": "stream",
     "text": [
      "|   0 |   1 |\n",
      "|----:|----:|\n",
      "|   0 |   0 |\n",
      "|   1 |   1 |\n",
      "|   2 |   2 |\n"
     ]
    }
   ],
   "source": [
    "print(df.head(3).to_markdown(index=None))"
   ]
  },
  {
   "cell_type": "code",
   "execution_count": 39,
   "metadata": {},
   "outputs": [],
   "source": [
    "from sklearn.utils import shuffle"
   ]
  },
  {
   "cell_type": "code",
   "execution_count": 40,
   "metadata": {
    "scrolled": true
   },
   "outputs": [],
   "source": [
    "### shuffle\n",
    "df = shuffle(df)\n",
    "### shift row down and move bottom to the top\n",
    "newfirst = df.loc[df.index[-1], [1]].values\n",
    "shuffled = np.concatenate((newfirst, df[1].shift().dropna().values))\n",
    "### reassign column values to make it 'permanent'\n",
    "df[1] = shuffled"
   ]
  },
  {
   "cell_type": "code",
   "execution_count": 41,
   "metadata": {
    "scrolled": true
   },
   "outputs": [
    {
     "name": "stdout",
     "output_type": "stream",
     "text": [
      "|   0 |   1 |\n",
      "|----:|----:|\n",
      "|   9 |   7 |\n",
      "|   6 |   9 |\n",
      "|   0 |   6 |\n"
     ]
    }
   ],
   "source": [
    "print(df.head(3).to_markdown(index=None))"
   ]
  },
  {
   "cell_type": "code",
   "execution_count": 43,
   "metadata": {
    "scrolled": true
   },
   "outputs": [],
   "source": [
    "## shuffle names and give numbers\n",
    "namenum = {}\n",
    "for i, n in enumerate(shuffle(names.index)):\n",
    "    namenum[i] = n\n",
    "## map names to numbers\n",
    "df[0] = df[0].map(namenum)\n",
    "df[1] = df[1].map(namenum)\n",
    "\n",
    "## map back to namelist\n",
    "santa = df.set_index(0).to_dict()[1]\n",
    "names[\"Santee\"] = names.reset_index()[\"index\"].map(santa).values"
   ]
  },
  {
   "cell_type": "code",
   "execution_count": 47,
   "metadata": {
    "scrolled": true
   },
   "outputs": [
    {
     "name": "stdout",
     "output_type": "stream",
     "text": [
      "|              | E-mail                       | Santee          |\n",
      "|:-------------|:-----------------------------|:----------------|\n",
      "| Bobbi Torain | bobbi.torain@secretsanta.com | Eric Germain    |\n",
      "| Eric Germain | eric.germain@secretsanta.com | Marian Farquhar |\n",
      "| Helen Green  | helen.green@secretsanta.com  | Bobbi Torain    |\n"
     ]
    }
   ],
   "source": [
    "print(names.head(3).to_markdown())"
   ]
  },
  {
   "cell_type": "markdown",
   "metadata": {},
   "source": [
    "### email"
   ]
  },
  {
   "cell_type": "code",
   "execution_count": 48,
   "metadata": {},
   "outputs": [],
   "source": [
    "import smtplib, ssl\n",
    "import time"
   ]
  },
  {
   "cell_type": "code",
   "execution_count": 49,
   "metadata": {},
   "outputs": [],
   "source": [
    "def send_mail(receiver_email, subject, message, \n",
    "              username='secretsanta@gmail.com', password='password', port=587,\n",
    "             smtp_server = \"smtp.gmail.com\"):\n",
    "    \n",
    "    sendmsg = \"Subject: {}\\n\\n{}\".format(subject, message)\n",
    "    \n",
    "    context = ssl.create_default_context()\n",
    "    with smtplib.SMTP(smtp_server, port) as server:\n",
    "        server.starttls(context=context)\n",
    "        server.login(username, password)\n",
    "        server.sendmail(username, receiver_email, sendmsg.encode(\"utf-8\"))"
   ]
  },
  {
   "cell_type": "code",
   "execution_count": 66,
   "metadata": {},
   "outputs": [],
   "source": [
    "message = \"\"\"\\\n",
    "Dear {}, \n",
    "\n",
    "Hohoho, Merry Christmas!\n",
    "\n",
    "You have been randomly assigned a Secret Santa. Your recipient is:\n",
    "\n",
    "{}\n",
    " \n",
    "Please wrap their presents, write the recipient's name and sign from Santa. \n",
    "\n",
    "Regards,\n",
    "Santa Claus\"\"\""
   ]
  },
  {
   "cell_type": "code",
   "execution_count": null,
   "metadata": {},
   "outputs": [],
   "source": [
    "for row in names.iterrows():\n",
    "    ix = row[0]\n",
    "    values = row[1]\n",
    "    ## send mail (you can uncomment this to make it send)\n",
    "    #send_mail(values[\"E-mail\"], \"Secret Santa 20XX \", message.format(ix, values[\"Santee\"]))\n",
    "\n",
    "    ## put a little sleep timer as per usual automation 'politeness'\n",
    "    time.sleep(1)"
   ]
  },
  {
   "cell_type": "code",
   "execution_count": 14,
   "metadata": {},
   "outputs": [],
   "source": [
    "### everything\n",
    "import pandas as pd\n",
    "import numpy as np\n",
    "from sklearn.utils import shuffle\n",
    "import smtplib, ssl\n",
    "import time\n",
    "\n",
    "## import input\n",
    "names = pd.read_csv(\"secret_santa_participants.csv\", index_col=0) ## in this case I had the data ordered with first column\n",
    "## assign\n",
    "df=pd.DataFrame(np.arange(names.shape[0]))\n",
    "df[1] = df[0]\n",
    "\n",
    "df = shuffle(df)\n",
    "newfirst = df.loc[df.index[-1], [1]].values\n",
    "shuffled = np.concatenate((newfirst, df[1].shift().dropna().values))\n",
    "df[1] = shuffled\n",
    "\n",
    "namenum = {}\n",
    "for i, n in enumerate(shuffle(names.index)):\n",
    "    namenum[i] = n\n",
    "df[0] = df[0].map(namenum)\n",
    "df[1] = df[1].map(namenum)\n",
    "\n",
    "santa = df.set_index(0).to_dict()[1]\n",
    "names[\"Santee\"] = names.reset_index()[\"index\"].map(santa).values\n",
    "\n",
    "def send_mail(receiver_email, subject, message, \n",
    "              username='secretsanta@gmail.com', password='password', port=587,\n",
    "             smtp_server = \"smtp.gmail.com\"):\n",
    "    \n",
    "    sendmsg = \"Subject: {}\\n\\n{}\".format(subject, message)\n",
    "    \n",
    "    context = ssl.create_default_context()\n",
    "    with smtplib.SMTP(smtp_server, port) as server:\n",
    "        server.starttls(context=context)\n",
    "        server.login(username, password)\n",
    "        server.sendmail(username, receiver_email, sendmsg.encode(\"utf-8\"))\n",
    "        \n",
    "        \n",
    "message = \"\"\"\\\n",
    "Dear {}, \n",
    "\n",
    "Hohoho, Merry Christmas!\n",
    "\n",
    "You have been randomly assigned a Secret Santa. Your recipient is:\n",
    "\n",
    "{}\n",
    " \n",
    "Please wrap their presents, write the recipient's name and sign from Santa. \n",
    "\n",
    "Regards,\n",
    "Santa Claus\"\"\"\n",
    "\n",
    "for row in names.iterrows():\n",
    "    ix = row[0]\n",
    "    values = row[1]\n",
    "    ## send mail\n",
    "    send_mail(values[\"E-mail\"], \"Secret Santa 20XX \", message.format(ix, values[\"Santee\"]))\n",
    "\n",
    "    ## put a little sleep timer as per usual automation 'politeness'\n",
    "    time.sleep(1)"
   ]
  },
  {
   "cell_type": "markdown",
   "metadata": {},
   "source": [
    "### APPENDIX"
   ]
  },
  {
   "cell_type": "code",
   "execution_count": 15,
   "metadata": {},
   "outputs": [],
   "source": [
    "import names\n",
    "import pandas as pd\n",
    "import numpy as np\n",
    "\n",
    "name_email = {}\n",
    "for i in range(10):\n",
    "    ## loops through and generate a random male/female name\n",
    "    rand_name = names.get_full_name(gender=np.random.choice([\"male\", \"female\"]))\n",
    "    ## make fake e-mail\n",
    "    email = (\".\").join(rand_name.split()).lower() +\"@secretsanta.com\"\n",
    "    name_email[rand_name] = email\n",
    "    \n",
    "## export to csv\n",
    "pd.DataFrame(data={\"E-mail\":name_email}).to_csv(\"secret_santa_participants.csv\")"
   ]
  },
  {
   "cell_type": "code",
   "execution_count": null,
   "metadata": {},
   "outputs": [],
   "source": []
  },
  {
   "cell_type": "code",
   "execution_count": null,
   "metadata": {},
   "outputs": [],
   "source": []
  },
  {
   "cell_type": "code",
   "execution_count": null,
   "metadata": {},
   "outputs": [],
   "source": []
  }
 ],
 "metadata": {
  "kernelspec": {
   "display_name": "Python 3 (ipykernel)",
   "language": "python",
   "name": "python3"
  },
  "language_info": {
   "codemirror_mode": {
    "name": "ipython",
    "version": 3
   },
   "file_extension": ".py",
   "mimetype": "text/x-python",
   "name": "python",
   "nbconvert_exporter": "python",
   "pygments_lexer": "ipython3",
   "version": "3.9.7"
  }
 },
 "nbformat": 4,
 "nbformat_minor": 2
}
